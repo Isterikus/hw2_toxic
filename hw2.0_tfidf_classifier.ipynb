{
 "cells": [
  {
   "cell_type": "markdown",
   "metadata": {},
   "source": [
    "# Homework 2 - TF-IDF Classifier\n",
    "\n",
    "Ваша цель обучить классификатор который будет находить \"токсичные\" комментарии и опубликовать решения на Kaggle [Toxic Comment Classification Challenge](https://www.kaggle.com/c/jigsaw-toxic-comment-classification-challenge)\n",
    "\n",
    "В процессе обучения нужно ответить на ***[вопросы](https://docs.google.com/forms/d/e/1FAIpQLSd9mQx8EFpSH6FhCy1M_FmISzy3lhgyyqV3TN0pmtop7slmTA/viewform?usp=sf_link)***\n",
    "\n",
    "Данные можно скачать тут - https://www.kaggle.com/c/jigsaw-toxic-comment-classification-challenge/data\n",
    "\n"
   ]
  },
  {
   "cell_type": "code",
   "execution_count": 4,
   "metadata": {},
   "outputs": [],
   "source": [
    "import numpy as np\n",
    "import pandas as pd\n",
    "\n",
    "from sklearn.feature_extraction.text import TfidfVectorizer, CountVectorizer, HashingVectorizer, TfidfTransformer\n",
    "from sklearn.linear_model import LogisticRegression, SGDClassifier\n",
    "from sklearn.model_selection import cross_val_score, GridSearchCV\n",
    "from sklearn.pipeline import Pipeline"
   ]
  },
  {
   "cell_type": "code",
   "execution_count": 2,
   "metadata": {},
   "outputs": [
    {
     "name": "stderr",
     "output_type": "stream",
     "text": [
      "UsageError: Line magic function `%install_ext` not found.\n"
     ]
    }
   ],
   "source": [
    "%install_ext https://raw.github.com/cpcloud/ipython-autotime/master/autotime.py\n",
    "%load_ext autotime"
   ]
  },
  {
   "cell_type": "code",
   "execution_count": 5,
   "metadata": {},
   "outputs": [],
   "source": [
    "class_names = ['toxic', 'severe_toxic', 'obscene', 'threat', 'insult', 'identity_hate']\n",
    "\n",
    "train = pd.read_csv('../data/train.csv').fillna(' ')\n",
    "test = pd.read_csv('../data/test.csv').fillna(' ')"
   ]
  },
  {
   "cell_type": "markdown",
   "metadata": {},
   "source": [
    "Стадартными подходами для анализа текста являются [Bag of words](https://en.wikipedia.org/wiki/Bag-of-words_model) и его модификация [TF-IDF](https://en.wikipedia.org/wiki/Tf%E2%80%93idf).\n",
    "\n",
    "Они реалзованны в `sklearn` в виде [CountVectorizer](http://scikit-learn.org/stable/modules/generated/sklearn.feature_extraction.text.CountVectorizer.html) и [TfidfVectorizer](http://scikit-learn.org/stable/modules/generated/sklearn.feature_extraction.text.TfidfVectorizer.html).\n",
    "\n",
    "Более подробней про них можно посмотреть [тут](https://github.com/udsclub/workshop/blob/master/notebooks/UDS-workshop-feature-extraction-and-engineering.ipynb)"
   ]
  },
  {
   "cell_type": "code",
   "execution_count": 6,
   "metadata": {},
   "outputs": [],
   "source": [
    "train_text = train['comment_text']\n",
    "test_text = test['comment_text']\n",
    "all_text = pd.concat([train_text, test_text])"
   ]
  },
  {
   "cell_type": "markdown",
   "metadata": {},
   "source": [
    "# Homework questions\n",
    "\n",
    "## The most popular word\n",
    "Самое популярное 'the' - пересчитать по TfidVectorizer"
   ]
  },
  {
   "cell_type": "code",
   "execution_count": 5,
   "metadata": {},
   "outputs": [],
   "source": [
    "vectorizer = CountVectorizer()\n",
    "vectorizer.fit(all_text)\n",
    "vector = vectorizer.transform(all_text)\n",
    "features = vectorizer.get_feature_names()"
   ]
  },
  {
   "cell_type": "code",
   "execution_count": 6,
   "metadata": {},
   "outputs": [
    {
     "data": {
      "text/plain": [
       "'the'"
      ]
     },
     "execution_count": 6,
     "metadata": {},
     "output_type": "execute_result"
    }
   ],
   "source": [
    "smv = vector.sum(axis=0)\n",
    "features[smv.argmax()]"
   ]
  },
  {
   "cell_type": "markdown",
   "metadata": {},
   "source": [
    "## Choose optimal vectorizer with params"
   ]
  },
  {
   "cell_type": "code",
   "execution_count": 35,
   "metadata": {},
   "outputs": [
    {
     "name": "stdout",
     "output_type": "stream",
     "text": [
      "CPU times: user 1min 35s, sys: 3.4 s, total: 1min 38s\n",
      "Wall time: 1min 39s\n"
     ]
    }
   ],
   "source": [
    "%%time\n",
    "word_vectorizer = CountVectorizer(ngram_range=(1,2))\n",
    "word_vectorizer.fit(all_text)\n",
    "train_word_features = word_vectorizer.transform(train_text)\n",
    "test_word_features = word_vectorizer.transform(test_text)"
   ]
  },
  {
   "cell_type": "code",
   "execution_count": 7,
   "metadata": {},
   "outputs": [
    {
     "name": "stdout",
     "output_type": "stream",
     "text": [
      "CPU times: user 32.2 s, sys: 416 ms, total: 32.6 s\n",
      "Wall time: 32.9 s\n"
     ]
    }
   ],
   "source": [
    "%%time\n",
    "word_vectorizer = TfidfVectorizer(\n",
    "    sublinear_tf=True,\n",
    "    strip_accents='unicode',\n",
    "    analyzer='word',\n",
    "    token_pattern=r'\\w{1,}',\n",
    "    min_df=5,\n",
    "    stop_words='english',\n",
    "    binary=True,\n",
    "    max_features=32500)\n",
    "word_vectorizer.fit(all_text)\n",
    "train_word_features = word_vectorizer.transform(train_text)\n",
    "test_word_features = word_vectorizer.transform(test_text)"
   ]
  },
  {
   "cell_type": "code",
   "execution_count": 23,
   "metadata": {},
   "outputs": [
    {
     "name": "stdout",
     "output_type": "stream",
     "text": [
      "CPU times: user 13.6 s, sys: 249 ms, total: 13.8 s\n",
      "Wall time: 13.9 s\n"
     ]
    }
   ],
   "source": [
    "%%time\n",
    "word_vectorizer = HashingVectorizer()\n",
    "word_vectorizer.fit(all_text)\n",
    "train_word_features = word_vectorizer.transform(train_text)\n",
    "test_word_features = word_vectorizer.transform(test_text)"
   ]
  },
  {
   "cell_type": "markdown",
   "metadata": {},
   "source": [
    "## Choose optimal regression params"
   ]
  },
  {
   "cell_type": "markdown",
   "metadata": {},
   "source": [
    "Для классификации будем использовать логистическую регрессию [LogisticRegression](http://scikit-learn.org/stable/modules/generated/sklearn.linear_model.LogisticRegression.html)."
   ]
  },
  {
   "cell_type": "code",
   "execution_count": 70,
   "metadata": {},
   "outputs": [],
   "source": [
    "?LogisticRegression"
   ]
  },
  {
   "cell_type": "markdown",
   "metadata": {},
   "source": [
    "Будем тренировать по одному классификатору на каждый класс. \n",
    "\n",
    "Что бы провалидировать качество модели воспользуемся функцией [cross_val_score](http://scikit-learn.org/stable/modules/generated/sklearn.model_selection.cross_val_score.html)"
   ]
  },
  {
   "cell_type": "markdown",
   "metadata": {},
   "source": [
    "{'identity_hate': {'tol': 0.0001},\n",
    " 'insult': {'tol': 1e-05},\n",
    " 'obscene': {'tol': 1e-05},\n",
    " 'severe_toxic': {'tol': 0.0001},\n",
    " 'threat': {'tol': 1e-05},\n",
    " 'toxic': {'tol': 1e-05}}\n",
    "\n",
    "\n",
    "{'identity_hate': {'intercept_scaling': 19.2},\n",
    " 'insult': {'intercept_scaling': 18.6},\n",
    " 'obscene': {'intercept_scaling': 18.9},\n",
    " 'severe_toxic': {'intercept_scaling': 19.6},\n",
    " 'threat': {'intercept_scaling': 3.9},\n",
    " 'toxic': {'intercept_scaling': 19.2}}\n",
    " \n",
    " {'identity_hate': {'C': 1.5},\n",
    " 'insult': {'C': 1.5},\n",
    " 'obscene': {'C': 1.8},\n",
    " 'severe_toxic': {'C': 0.7},\n",
    " 'threat': {'C': 2.3},\n",
    " 'toxic': {'C': 2.1}}\n",
    "\n",
    "\n",
    "0.9801799060936968\n",
    "\n",
    "0.9801942996120685\n",
    "\n",
    "0.9801953784313565\n",
    "\n",
    "0.9801961844417346\n",
    "\n",
    "0.9801958807718631"
   ]
  },
  {
   "cell_type": "code",
   "execution_count": 9,
   "metadata": {},
   "outputs": [],
   "source": [
    "classifier = LogisticRegression()"
   ]
  },
  {
   "cell_type": "code",
   "execution_count": 81,
   "metadata": {},
   "outputs": [
    {
     "name": "stdout",
     "output_type": "stream",
     "text": [
      "toxic finished\n",
      "severe_toxic finished\n",
      "obscene finished\n",
      "threat finished\n",
      "insult finished\n",
      "identity_hate finished\n"
     ]
    }
   ],
   "source": [
    "params = {\n",
    "    'C': [0.7, 1.5, 1.8, 2.1, 2.3],\n",
    "    'tol': [0.0001, 0.00001],\n",
    "    'intercept_scaling': [3.9, 18.6, 18.9, 19.2, 19.6]\n",
    "#     'C': [0.65, 0.7, 0.75, 1.4, 1.5, 1.6, 1.7, 1.8, 2.1, 2.2, 2.4, 2.5],\n",
    "#     'C': [0.5, 1.0, 1.5, 2.0],\n",
    "#     'C': np.arange(.1, 2.5, 0.1)\n",
    "#     'C': list()\n",
    "#     'tol': [0.00001, 0.0001],\n",
    "#     'intercept_scaling': list(np.arange(3.5, 4.5, 0.1)) + list(np.arange(17.2, 20.0, 0.1))\n",
    "}\n",
    "\n",
    "grid = GridSearchCV(LogisticRegression(), params, n_jobs=-1, scoring='roc_auc')\n",
    "best_params = {}\n",
    "for class_name in class_names:\n",
    "    train_target = train[class_name]\n",
    "    grid.fit(train_word_features, train_target)\n",
    "    best_params[class_name] = grid.best_params_\n",
    "    print(class_name + \" finished\")"
   ]
  },
  {
   "cell_type": "code",
   "execution_count": 84,
   "metadata": {},
   "outputs": [
    {
     "data": {
      "text/plain": [
       "{'identity_hate': {'C': 1.5, 'intercept_scaling': 19.2, 'tol': 0.0001},\n",
       " 'insult': {'C': 1.5, 'intercept_scaling': 19.2, 'tol': 1e-05},\n",
       " 'obscene': {'C': 1.8, 'intercept_scaling': 18.6, 'tol': 1e-05},\n",
       " 'severe_toxic': {'C': 0.7, 'intercept_scaling': 19.2, 'tol': 1e-05},\n",
       " 'threat': {'C': 2.3, 'intercept_scaling': 18.6, 'tol': 0.0001},\n",
       " 'toxic': {'C': 2.1, 'intercept_scaling': 19.6, 'tol': 0.0001}}"
      ]
     },
     "execution_count": 84,
     "metadata": {},
     "output_type": "execute_result"
    }
   ],
   "source": [
    "best_params"
   ]
  },
  {
   "cell_type": "code",
   "execution_count": 83,
   "metadata": {},
   "outputs": [
    {
     "name": "stdout",
     "output_type": "stream",
     "text": [
      "CV score for class toxic is 0.9708049252003486\n",
      "CV score for class severe_toxic is 0.9863405424188875\n",
      "CV score for class obscene is 0.9862588274321614\n",
      "CV score for class threat is 0.9844704274520101\n",
      "CV score for class insult is 0.9773616766393504\n",
      "CV score for class identity_hate is 0.9759658723927512\n",
      "Total score is 0.9802003785892515\n",
      "CPU times: user 14.6 s, sys: 469 ms, total: 15.1 s\n",
      "Wall time: 15.1 s\n"
     ]
    }
   ],
   "source": [
    "%%time\n",
    "\n",
    "scores= []\n",
    "\n",
    "for class_name in class_names:\n",
    "    train_target = train[class_name]\n",
    "    classifier = LogisticRegression(**best_params[class_name])\n",
    "    cv_score = np.mean(cross_val_score(classifier,\n",
    "                                       train_word_features,\n",
    "                                       train_target,\n",
    "                                       scoring='roc_auc'))\n",
    "\n",
    "    print('CV score for class {} is {}'.format(class_name, cv_score))\n",
    "    scores.append(cv_score)\n",
    "\n",
    "print('Total score is {}'.format(np.mean(scores)))"
   ]
  },
  {
   "cell_type": "markdown",
   "metadata": {},
   "source": [
    "Попробуйте подобрать лучшие параметры для `word_vectorizer` и `classifier` оптимизируя метрику [ROC AUC](https://en.wikipedia.org/wiki/Receiver_operating_characteristic)\n"
   ]
  },
  {
   "cell_type": "markdown",
   "metadata": {},
   "source": [
    "---"
   ]
  },
  {
   "cell_type": "markdown",
   "metadata": {},
   "source": [
    "Опубликуйте лучшие решение на [Kaggle Toxic Comment Classification Challenge](https://www.kaggle.com/c/jigsaw-toxic-comment-classification-challenge/submit)"
   ]
  },
  {
   "cell_type": "code",
   "execution_count": 85,
   "metadata": {},
   "outputs": [],
   "source": [
    "submission = pd.DataFrame.from_dict({'id': test['id']})"
   ]
  },
  {
   "cell_type": "code",
   "execution_count": 86,
   "metadata": {},
   "outputs": [
    {
     "name": "stdout",
     "output_type": "stream",
     "text": [
      "CPU times: user 7.61 s, sys: 136 ms, total: 7.75 s\n",
      "Wall time: 7.83 s\n"
     ]
    }
   ],
   "source": [
    "%%time\n",
    "for class_name in class_names:\n",
    "    train_target = train[class_name]\n",
    "    classifier = LogisticRegression(**best_params[class_name])\n",
    "    classifier.fit(train_word_features, train_target)\n",
    "    submission[class_name] = classifier.predict_proba(test_word_features)[:, 1]    "
   ]
  },
  {
   "cell_type": "code",
   "execution_count": 87,
   "metadata": {},
   "outputs": [],
   "source": [
    "submission.to_csv('submission.csv', index=False)"
   ]
  },
  {
   "cell_type": "code",
   "execution_count": null,
   "metadata": {},
   "outputs": [],
   "source": []
  }
 ],
 "metadata": {
  "kernelspec": {
   "display_name": "Python 3",
   "language": "python",
   "name": "python3"
  },
  "language_info": {
   "codemirror_mode": {
    "name": "ipython",
    "version": 3
   },
   "file_extension": ".py",
   "mimetype": "text/x-python",
   "name": "python",
   "nbconvert_exporter": "python",
   "pygments_lexer": "ipython3",
   "version": "3.6.4"
  }
 },
 "nbformat": 4,
 "nbformat_minor": 2
}
